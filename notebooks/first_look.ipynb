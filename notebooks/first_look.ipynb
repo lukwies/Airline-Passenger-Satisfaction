{
 "cells": [
  {
   "cell_type": "markdown",
   "id": "1d86f945",
   "metadata": {},
   "source": [
    "<img width=\"300\" src=\"https://cdn.cnn.com/cnnnext/dam/assets/210810173434-4-pan-am-707-economy-meals-credit-anne-sweeney-full-169.jpg\" align='left'>"
   ]
  },
  {
   "cell_type": "markdown",
   "id": "5edb5954",
   "metadata": {},
   "source": [
    "# First Look\n",
    "Here we take a first look at the dataset and its features to get an overview and to develop a strategy for\n",
    "the cleaning process."
   ]
  },
  {
   "cell_type": "code",
   "execution_count": 1,
   "id": "b99e7f3b",
   "metadata": {},
   "outputs": [],
   "source": [
    "import pandas as pd\n",
    "import numpy as np\n",
    "import yaml\n",
    "import sys\n",
    "import os\n",
    "\n",
    "import seaborn as sns\n",
    "import matplotlib.pyplot as plt"
   ]
  },
  {
   "cell_type": "code",
   "execution_count": 2,
   "id": "c5ccd60a",
   "metadata": {},
   "outputs": [],
   "source": [
    "sys.path.insert(0, os.path.abspath('../src'))\n",
    "import mylib.cleaning as clean"
   ]
  },
  {
   "cell_type": "code",
   "execution_count": 3,
   "id": "53b24ebc",
   "metadata": {},
   "outputs": [],
   "source": [
    "pd.options.display.max_columns = None"
   ]
  },
  {
   "cell_type": "markdown",
   "id": "5eb31c38",
   "metadata": {},
   "source": [
    "#### Load configs from yaml file"
   ]
  },
  {
   "cell_type": "code",
   "execution_count": 4,
   "id": "87b40e14",
   "metadata": {},
   "outputs": [],
   "source": [
    "with open('../params.yaml') as file:\n",
    "    config = yaml.safe_load(file)"
   ]
  },
  {
   "cell_type": "markdown",
   "id": "4d7ccb91",
   "metadata": {},
   "source": [
    "#### Read dataset"
   ]
  },
  {
   "cell_type": "code",
   "execution_count": 5,
   "id": "77b983c9",
   "metadata": {},
   "outputs": [],
   "source": [
    "data = pd.read_csv(config['data']['raw'])"
   ]
  },
  {
   "cell_type": "code",
   "execution_count": 6,
   "id": "8279db20",
   "metadata": {
    "scrolled": true
   },
   "outputs": [
    {
     "data": {
      "text/html": [
       "<div>\n",
       "<style scoped>\n",
       "    .dataframe tbody tr th:only-of-type {\n",
       "        vertical-align: middle;\n",
       "    }\n",
       "\n",
       "    .dataframe tbody tr th {\n",
       "        vertical-align: top;\n",
       "    }\n",
       "\n",
       "    .dataframe thead th {\n",
       "        text-align: right;\n",
       "    }\n",
       "</style>\n",
       "<table border=\"1\" class=\"dataframe\">\n",
       "  <thead>\n",
       "    <tr style=\"text-align: right;\">\n",
       "      <th></th>\n",
       "      <th>id</th>\n",
       "      <th>Gender</th>\n",
       "      <th>Customer Type</th>\n",
       "      <th>Age</th>\n",
       "      <th>Type of Travel</th>\n",
       "      <th>Class</th>\n",
       "      <th>Flight Distance</th>\n",
       "      <th>Inflight wifi service</th>\n",
       "      <th>Departure/Arrival time convenient</th>\n",
       "      <th>Ease of Online booking</th>\n",
       "      <th>Gate location</th>\n",
       "      <th>Food and drink</th>\n",
       "      <th>Online boarding</th>\n",
       "      <th>Seat comfort</th>\n",
       "      <th>Inflight entertainment</th>\n",
       "      <th>On-board service</th>\n",
       "      <th>Leg room service</th>\n",
       "      <th>Baggage handling</th>\n",
       "      <th>Checkin service</th>\n",
       "      <th>Inflight service</th>\n",
       "      <th>Cleanliness</th>\n",
       "      <th>Departure Delay in Minutes</th>\n",
       "      <th>Arrival Delay in Minutes</th>\n",
       "      <th>satisfaction</th>\n",
       "    </tr>\n",
       "  </thead>\n",
       "  <tbody>\n",
       "    <tr>\n",
       "      <th>0</th>\n",
       "      <td>70172</td>\n",
       "      <td>Male</td>\n",
       "      <td>Loyal Customer</td>\n",
       "      <td>13</td>\n",
       "      <td>Personal Travel</td>\n",
       "      <td>Eco Plus</td>\n",
       "      <td>460</td>\n",
       "      <td>3</td>\n",
       "      <td>4</td>\n",
       "      <td>3</td>\n",
       "      <td>1</td>\n",
       "      <td>5</td>\n",
       "      <td>3</td>\n",
       "      <td>5</td>\n",
       "      <td>5</td>\n",
       "      <td>4</td>\n",
       "      <td>3</td>\n",
       "      <td>4</td>\n",
       "      <td>4</td>\n",
       "      <td>5</td>\n",
       "      <td>5</td>\n",
       "      <td>25</td>\n",
       "      <td>18.0</td>\n",
       "      <td>neutral or dissatisfied</td>\n",
       "    </tr>\n",
       "    <tr>\n",
       "      <th>1</th>\n",
       "      <td>5047</td>\n",
       "      <td>Male</td>\n",
       "      <td>disloyal Customer</td>\n",
       "      <td>25</td>\n",
       "      <td>Business travel</td>\n",
       "      <td>Business</td>\n",
       "      <td>235</td>\n",
       "      <td>3</td>\n",
       "      <td>2</td>\n",
       "      <td>3</td>\n",
       "      <td>3</td>\n",
       "      <td>1</td>\n",
       "      <td>3</td>\n",
       "      <td>1</td>\n",
       "      <td>1</td>\n",
       "      <td>1</td>\n",
       "      <td>5</td>\n",
       "      <td>3</td>\n",
       "      <td>1</td>\n",
       "      <td>4</td>\n",
       "      <td>1</td>\n",
       "      <td>1</td>\n",
       "      <td>6.0</td>\n",
       "      <td>neutral or dissatisfied</td>\n",
       "    </tr>\n",
       "    <tr>\n",
       "      <th>2</th>\n",
       "      <td>110028</td>\n",
       "      <td>Female</td>\n",
       "      <td>Loyal Customer</td>\n",
       "      <td>26</td>\n",
       "      <td>Business travel</td>\n",
       "      <td>Business</td>\n",
       "      <td>1142</td>\n",
       "      <td>2</td>\n",
       "      <td>2</td>\n",
       "      <td>2</td>\n",
       "      <td>2</td>\n",
       "      <td>5</td>\n",
       "      <td>5</td>\n",
       "      <td>5</td>\n",
       "      <td>5</td>\n",
       "      <td>4</td>\n",
       "      <td>3</td>\n",
       "      <td>4</td>\n",
       "      <td>4</td>\n",
       "      <td>4</td>\n",
       "      <td>5</td>\n",
       "      <td>0</td>\n",
       "      <td>0.0</td>\n",
       "      <td>satisfied</td>\n",
       "    </tr>\n",
       "  </tbody>\n",
       "</table>\n",
       "</div>"
      ],
      "text/plain": [
       "       id  Gender      Customer Type  Age   Type of Travel     Class  \\\n",
       "0   70172    Male     Loyal Customer   13  Personal Travel  Eco Plus   \n",
       "1    5047    Male  disloyal Customer   25  Business travel  Business   \n",
       "2  110028  Female     Loyal Customer   26  Business travel  Business   \n",
       "\n",
       "   Flight Distance  Inflight wifi service  Departure/Arrival time convenient  \\\n",
       "0              460                      3                                  4   \n",
       "1              235                      3                                  2   \n",
       "2             1142                      2                                  2   \n",
       "\n",
       "   Ease of Online booking  Gate location  Food and drink  Online boarding  \\\n",
       "0                       3              1               5                3   \n",
       "1                       3              3               1                3   \n",
       "2                       2              2               5                5   \n",
       "\n",
       "   Seat comfort  Inflight entertainment  On-board service  Leg room service  \\\n",
       "0             5                       5                 4                 3   \n",
       "1             1                       1                 1                 5   \n",
       "2             5                       5                 4                 3   \n",
       "\n",
       "   Baggage handling  Checkin service  Inflight service  Cleanliness  \\\n",
       "0                 4                4                 5            5   \n",
       "1                 3                1                 4            1   \n",
       "2                 4                4                 4            5   \n",
       "\n",
       "   Departure Delay in Minutes  Arrival Delay in Minutes  \\\n",
       "0                          25                      18.0   \n",
       "1                           1                       6.0   \n",
       "2                           0                       0.0   \n",
       "\n",
       "              satisfaction  \n",
       "0  neutral or dissatisfied  \n",
       "1  neutral or dissatisfied  \n",
       "2                satisfied  "
      ]
     },
     "execution_count": 6,
     "metadata": {},
     "output_type": "execute_result"
    }
   ],
   "source": [
    "data.head(3)"
   ]
  },
  {
   "cell_type": "markdown",
   "id": "0080e720",
   "metadata": {},
   "source": [
    "#### Normalize column names"
   ]
  },
  {
   "cell_type": "code",
   "execution_count": 7,
   "id": "2b5cb49c",
   "metadata": {},
   "outputs": [
    {
     "name": "stdout",
     "output_type": "stream",
     "text": [
      "Index(['id', 'gender', 'customer_type', 'age', 'type_of_travel', 'class',\n",
      "       'flight_distance', 'inflight_wifi_service',\n",
      "       'departure_arrival_time_convenient', 'ease_of_online_booking',\n",
      "       'gate_location', 'food_and_drink', 'online_boarding', 'seat_comfort',\n",
      "       'inflight_entertainment', 'on_board_service', 'leg_room_service',\n",
      "       'baggage_handling', 'checkin_service', 'inflight_service',\n",
      "       'cleanliness', 'departure_delay_in_minutes', 'arrival_delay_in_minutes',\n",
      "       'satisfaction'],\n",
      "      dtype='object')\n"
     ]
    }
   ],
   "source": [
    "data = clean.normalize_column_names(data)\n",
    "print(data.columns)"
   ]
  },
  {
   "cell_type": "markdown",
   "id": "82d5bdb6",
   "metadata": {},
   "source": [
    "#### Get dataset information"
   ]
  },
  {
   "cell_type": "code",
   "execution_count": 8,
   "id": "aec23744",
   "metadata": {
    "scrolled": false
   },
   "outputs": [
    {
     "name": "stdout",
     "output_type": "stream",
     "text": [
      "<class 'pandas.core.frame.DataFrame'>\n",
      "RangeIndex: 129880 entries, 0 to 129879\n",
      "Data columns (total 24 columns):\n",
      " #   Column                             Non-Null Count   Dtype  \n",
      "---  ------                             --------------   -----  \n",
      " 0   id                                 129880 non-null  int64  \n",
      " 1   gender                             129880 non-null  object \n",
      " 2   customer_type                      129880 non-null  object \n",
      " 3   age                                129880 non-null  int64  \n",
      " 4   type_of_travel                     129880 non-null  object \n",
      " 5   class                              129880 non-null  object \n",
      " 6   flight_distance                    129880 non-null  int64  \n",
      " 7   inflight_wifi_service              129880 non-null  int64  \n",
      " 8   departure_arrival_time_convenient  129880 non-null  int64  \n",
      " 9   ease_of_online_booking             129880 non-null  int64  \n",
      " 10  gate_location                      129880 non-null  int64  \n",
      " 11  food_and_drink                     129880 non-null  int64  \n",
      " 12  online_boarding                    129880 non-null  int64  \n",
      " 13  seat_comfort                       129880 non-null  int64  \n",
      " 14  inflight_entertainment             129880 non-null  int64  \n",
      " 15  on_board_service                   129880 non-null  int64  \n",
      " 16  leg_room_service                   129880 non-null  int64  \n",
      " 17  baggage_handling                   129880 non-null  int64  \n",
      " 18  checkin_service                    129880 non-null  int64  \n",
      " 19  inflight_service                   129880 non-null  int64  \n",
      " 20  cleanliness                        129880 non-null  int64  \n",
      " 21  departure_delay_in_minutes         129880 non-null  int64  \n",
      " 22  arrival_delay_in_minutes           129487 non-null  float64\n",
      " 23  satisfaction                       129880 non-null  object \n",
      "dtypes: float64(1), int64(18), object(5)\n",
      "memory usage: 23.8+ MB\n"
     ]
    }
   ],
   "source": [
    "data.info()"
   ]
  },
  {
   "cell_type": "markdown",
   "id": "6ce9df17",
   "metadata": {},
   "source": [
    "Luckily we only have some nan values in column arrival_delay_in_minutes ..."
   ]
  },
  {
   "cell_type": "markdown",
   "id": "e389490b",
   "metadata": {},
   "source": [
    "#### Take a look at the categoricals"
   ]
  },
  {
   "cell_type": "code",
   "execution_count": 9,
   "id": "bfec1bdf",
   "metadata": {
    "scrolled": true
   },
   "outputs": [
    {
     "data": {
      "text/html": [
       "<div>\n",
       "<style scoped>\n",
       "    .dataframe tbody tr th:only-of-type {\n",
       "        vertical-align: middle;\n",
       "    }\n",
       "\n",
       "    .dataframe tbody tr th {\n",
       "        vertical-align: top;\n",
       "    }\n",
       "\n",
       "    .dataframe thead th {\n",
       "        text-align: right;\n",
       "    }\n",
       "</style>\n",
       "<table border=\"1\" class=\"dataframe\">\n",
       "  <thead>\n",
       "    <tr style=\"text-align: right;\">\n",
       "      <th></th>\n",
       "      <th>count</th>\n",
       "      <th>unique</th>\n",
       "      <th>top</th>\n",
       "      <th>freq</th>\n",
       "    </tr>\n",
       "  </thead>\n",
       "  <tbody>\n",
       "    <tr>\n",
       "      <th>gender</th>\n",
       "      <td>129880</td>\n",
       "      <td>2</td>\n",
       "      <td>Female</td>\n",
       "      <td>65899</td>\n",
       "    </tr>\n",
       "    <tr>\n",
       "      <th>customer_type</th>\n",
       "      <td>129880</td>\n",
       "      <td>2</td>\n",
       "      <td>Loyal Customer</td>\n",
       "      <td>106100</td>\n",
       "    </tr>\n",
       "    <tr>\n",
       "      <th>type_of_travel</th>\n",
       "      <td>129880</td>\n",
       "      <td>2</td>\n",
       "      <td>Business travel</td>\n",
       "      <td>89693</td>\n",
       "    </tr>\n",
       "    <tr>\n",
       "      <th>class</th>\n",
       "      <td>129880</td>\n",
       "      <td>3</td>\n",
       "      <td>Business</td>\n",
       "      <td>62160</td>\n",
       "    </tr>\n",
       "    <tr>\n",
       "      <th>satisfaction</th>\n",
       "      <td>129880</td>\n",
       "      <td>2</td>\n",
       "      <td>neutral or dissatisfied</td>\n",
       "      <td>73452</td>\n",
       "    </tr>\n",
       "  </tbody>\n",
       "</table>\n",
       "</div>"
      ],
      "text/plain": [
       "                 count unique                      top    freq\n",
       "gender          129880      2                   Female   65899\n",
       "customer_type   129880      2           Loyal Customer  106100\n",
       "type_of_travel  129880      2          Business travel   89693\n",
       "class           129880      3                 Business   62160\n",
       "satisfaction    129880      2  neutral or dissatisfied   73452"
      ]
     },
     "execution_count": 9,
     "metadata": {},
     "output_type": "execute_result"
    }
   ],
   "source": [
    "data.describe(include=object).T"
   ]
  },
  {
   "cell_type": "markdown",
   "id": "28a266bb",
   "metadata": {},
   "source": [
    "#### Column `gender`\n",
    "- Rename 'Female' to 'F'\n",
    "- Rename 'Male' to 'M'"
   ]
  },
  {
   "cell_type": "code",
   "execution_count": 10,
   "id": "3cd381f6",
   "metadata": {
    "scrolled": true
   },
   "outputs": [
    {
     "data": {
      "text/plain": [
       "Female    65899\n",
       "Male      63981\n",
       "Name: gender, dtype: int64"
      ]
     },
     "execution_count": 10,
     "metadata": {},
     "output_type": "execute_result"
    }
   ],
   "source": [
    "data['gender'].value_counts()"
   ]
  },
  {
   "cell_type": "markdown",
   "id": "1ca03a50",
   "metadata": {},
   "source": [
    "#### Column `customer_type`\n",
    "- Rename 'Loyal Customer' to 'Loyal'\n",
    "- Rename 'disloyal Customer' to 'Disloyal'"
   ]
  },
  {
   "cell_type": "code",
   "execution_count": 11,
   "id": "35d6e4d0",
   "metadata": {
    "scrolled": false
   },
   "outputs": [
    {
     "data": {
      "text/plain": [
       "Loyal Customer       106100\n",
       "disloyal Customer     23780\n",
       "Name: customer_type, dtype: int64"
      ]
     },
     "execution_count": 11,
     "metadata": {},
     "output_type": "execute_result"
    }
   ],
   "source": [
    "data['customer_type'].value_counts()"
   ]
  },
  {
   "cell_type": "markdown",
   "id": "d5bf02af",
   "metadata": {},
   "source": [
    "#### Column `type_of_travel`\n",
    "- Rename 'Business travel' to 'Business'\n",
    "- Rename 'Personal Travel' to 'Private'"
   ]
  },
  {
   "cell_type": "code",
   "execution_count": 12,
   "id": "b2fc993f",
   "metadata": {
    "scrolled": true
   },
   "outputs": [
    {
     "data": {
      "text/plain": [
       "Business travel    89693\n",
       "Personal Travel    40187\n",
       "Name: type_of_travel, dtype: int64"
      ]
     },
     "execution_count": 12,
     "metadata": {},
     "output_type": "execute_result"
    }
   ],
   "source": [
    "data['type_of_travel'].value_counts()"
   ]
  },
  {
   "cell_type": "markdown",
   "id": "31196222",
   "metadata": {},
   "source": [
    "#### Columns `class`"
   ]
  },
  {
   "cell_type": "code",
   "execution_count": 13,
   "id": "eb5899be",
   "metadata": {
    "scrolled": true
   },
   "outputs": [
    {
     "data": {
      "text/plain": [
       "Business    62160\n",
       "Eco         58309\n",
       "Eco Plus     9411\n",
       "Name: class, dtype: int64"
      ]
     },
     "execution_count": 13,
     "metadata": {},
     "output_type": "execute_result"
    }
   ],
   "source": [
    "data['class'].value_counts()"
   ]
  },
  {
   "cell_type": "markdown",
   "id": "2011b585",
   "metadata": {},
   "source": [
    "### This is our dependent variable\n",
    "#### Column `satisfaction`\n",
    "\n",
    "- Rename column to 'satisfied'\n",
    "- Change 'neutral or dissatisfied' to False\n",
    "- Change 'satisfied' to False\n",
    "- Change column type to boolean"
   ]
  },
  {
   "cell_type": "code",
   "execution_count": 14,
   "id": "3bd1fb82",
   "metadata": {
    "scrolled": true
   },
   "outputs": [
    {
     "data": {
      "text/plain": [
       "neutral or dissatisfied    73452\n",
       "satisfied                  56428\n",
       "Name: satisfaction, dtype: int64"
      ]
     },
     "execution_count": 14,
     "metadata": {},
     "output_type": "execute_result"
    }
   ],
   "source": [
    "data['satisfaction'].value_counts()"
   ]
  },
  {
   "cell_type": "markdown",
   "id": "03453643",
   "metadata": {},
   "source": [
    "#### Take a look at the numericals"
   ]
  },
  {
   "cell_type": "code",
   "execution_count": 15,
   "id": "02cac77c",
   "metadata": {
    "scrolled": false
   },
   "outputs": [
    {
     "data": {
      "text/html": [
       "<div>\n",
       "<style scoped>\n",
       "    .dataframe tbody tr th:only-of-type {\n",
       "        vertical-align: middle;\n",
       "    }\n",
       "\n",
       "    .dataframe tbody tr th {\n",
       "        vertical-align: top;\n",
       "    }\n",
       "\n",
       "    .dataframe thead th {\n",
       "        text-align: right;\n",
       "    }\n",
       "</style>\n",
       "<table border=\"1\" class=\"dataframe\">\n",
       "  <thead>\n",
       "    <tr style=\"text-align: right;\">\n",
       "      <th></th>\n",
       "      <th>count</th>\n",
       "      <th>mean</th>\n",
       "      <th>std</th>\n",
       "      <th>min</th>\n",
       "      <th>25%</th>\n",
       "      <th>50%</th>\n",
       "      <th>75%</th>\n",
       "      <th>max</th>\n",
       "    </tr>\n",
       "  </thead>\n",
       "  <tbody>\n",
       "    <tr>\n",
       "      <th>id</th>\n",
       "      <td>129880.0</td>\n",
       "      <td>64940.500000</td>\n",
       "      <td>37493.270818</td>\n",
       "      <td>1.0</td>\n",
       "      <td>32470.75</td>\n",
       "      <td>64940.5</td>\n",
       "      <td>97410.25</td>\n",
       "      <td>129880.0</td>\n",
       "    </tr>\n",
       "    <tr>\n",
       "      <th>age</th>\n",
       "      <td>129880.0</td>\n",
       "      <td>39.427957</td>\n",
       "      <td>15.119360</td>\n",
       "      <td>7.0</td>\n",
       "      <td>27.00</td>\n",
       "      <td>40.0</td>\n",
       "      <td>51.00</td>\n",
       "      <td>85.0</td>\n",
       "    </tr>\n",
       "    <tr>\n",
       "      <th>flight_distance</th>\n",
       "      <td>129880.0</td>\n",
       "      <td>1190.316392</td>\n",
       "      <td>997.452477</td>\n",
       "      <td>31.0</td>\n",
       "      <td>414.00</td>\n",
       "      <td>844.0</td>\n",
       "      <td>1744.00</td>\n",
       "      <td>4983.0</td>\n",
       "    </tr>\n",
       "    <tr>\n",
       "      <th>inflight_wifi_service</th>\n",
       "      <td>129880.0</td>\n",
       "      <td>2.728696</td>\n",
       "      <td>1.329340</td>\n",
       "      <td>0.0</td>\n",
       "      <td>2.00</td>\n",
       "      <td>3.0</td>\n",
       "      <td>4.00</td>\n",
       "      <td>5.0</td>\n",
       "    </tr>\n",
       "    <tr>\n",
       "      <th>departure_arrival_time_convenient</th>\n",
       "      <td>129880.0</td>\n",
       "      <td>3.057599</td>\n",
       "      <td>1.526741</td>\n",
       "      <td>0.0</td>\n",
       "      <td>2.00</td>\n",
       "      <td>3.0</td>\n",
       "      <td>4.00</td>\n",
       "      <td>5.0</td>\n",
       "    </tr>\n",
       "    <tr>\n",
       "      <th>ease_of_online_booking</th>\n",
       "      <td>129880.0</td>\n",
       "      <td>2.756876</td>\n",
       "      <td>1.401740</td>\n",
       "      <td>0.0</td>\n",
       "      <td>2.00</td>\n",
       "      <td>3.0</td>\n",
       "      <td>4.00</td>\n",
       "      <td>5.0</td>\n",
       "    </tr>\n",
       "    <tr>\n",
       "      <th>gate_location</th>\n",
       "      <td>129880.0</td>\n",
       "      <td>2.976925</td>\n",
       "      <td>1.278520</td>\n",
       "      <td>0.0</td>\n",
       "      <td>2.00</td>\n",
       "      <td>3.0</td>\n",
       "      <td>4.00</td>\n",
       "      <td>5.0</td>\n",
       "    </tr>\n",
       "    <tr>\n",
       "      <th>food_and_drink</th>\n",
       "      <td>129880.0</td>\n",
       "      <td>3.204774</td>\n",
       "      <td>1.329933</td>\n",
       "      <td>0.0</td>\n",
       "      <td>2.00</td>\n",
       "      <td>3.0</td>\n",
       "      <td>4.00</td>\n",
       "      <td>5.0</td>\n",
       "    </tr>\n",
       "    <tr>\n",
       "      <th>online_boarding</th>\n",
       "      <td>129880.0</td>\n",
       "      <td>3.252633</td>\n",
       "      <td>1.350719</td>\n",
       "      <td>0.0</td>\n",
       "      <td>2.00</td>\n",
       "      <td>3.0</td>\n",
       "      <td>4.00</td>\n",
       "      <td>5.0</td>\n",
       "    </tr>\n",
       "    <tr>\n",
       "      <th>seat_comfort</th>\n",
       "      <td>129880.0</td>\n",
       "      <td>3.441361</td>\n",
       "      <td>1.319289</td>\n",
       "      <td>0.0</td>\n",
       "      <td>2.00</td>\n",
       "      <td>4.0</td>\n",
       "      <td>5.00</td>\n",
       "      <td>5.0</td>\n",
       "    </tr>\n",
       "    <tr>\n",
       "      <th>inflight_entertainment</th>\n",
       "      <td>129880.0</td>\n",
       "      <td>3.358077</td>\n",
       "      <td>1.334049</td>\n",
       "      <td>0.0</td>\n",
       "      <td>2.00</td>\n",
       "      <td>4.0</td>\n",
       "      <td>4.00</td>\n",
       "      <td>5.0</td>\n",
       "    </tr>\n",
       "    <tr>\n",
       "      <th>on_board_service</th>\n",
       "      <td>129880.0</td>\n",
       "      <td>3.383023</td>\n",
       "      <td>1.287099</td>\n",
       "      <td>0.0</td>\n",
       "      <td>2.00</td>\n",
       "      <td>4.0</td>\n",
       "      <td>4.00</td>\n",
       "      <td>5.0</td>\n",
       "    </tr>\n",
       "    <tr>\n",
       "      <th>leg_room_service</th>\n",
       "      <td>129880.0</td>\n",
       "      <td>3.350878</td>\n",
       "      <td>1.316252</td>\n",
       "      <td>0.0</td>\n",
       "      <td>2.00</td>\n",
       "      <td>4.0</td>\n",
       "      <td>4.00</td>\n",
       "      <td>5.0</td>\n",
       "    </tr>\n",
       "    <tr>\n",
       "      <th>baggage_handling</th>\n",
       "      <td>129880.0</td>\n",
       "      <td>3.632114</td>\n",
       "      <td>1.180025</td>\n",
       "      <td>1.0</td>\n",
       "      <td>3.00</td>\n",
       "      <td>4.0</td>\n",
       "      <td>5.00</td>\n",
       "      <td>5.0</td>\n",
       "    </tr>\n",
       "    <tr>\n",
       "      <th>checkin_service</th>\n",
       "      <td>129880.0</td>\n",
       "      <td>3.306267</td>\n",
       "      <td>1.266185</td>\n",
       "      <td>0.0</td>\n",
       "      <td>3.00</td>\n",
       "      <td>3.0</td>\n",
       "      <td>4.00</td>\n",
       "      <td>5.0</td>\n",
       "    </tr>\n",
       "    <tr>\n",
       "      <th>inflight_service</th>\n",
       "      <td>129880.0</td>\n",
       "      <td>3.642193</td>\n",
       "      <td>1.176669</td>\n",
       "      <td>0.0</td>\n",
       "      <td>3.00</td>\n",
       "      <td>4.0</td>\n",
       "      <td>5.00</td>\n",
       "      <td>5.0</td>\n",
       "    </tr>\n",
       "    <tr>\n",
       "      <th>cleanliness</th>\n",
       "      <td>129880.0</td>\n",
       "      <td>3.286326</td>\n",
       "      <td>1.313682</td>\n",
       "      <td>0.0</td>\n",
       "      <td>2.00</td>\n",
       "      <td>3.0</td>\n",
       "      <td>4.00</td>\n",
       "      <td>5.0</td>\n",
       "    </tr>\n",
       "    <tr>\n",
       "      <th>departure_delay_in_minutes</th>\n",
       "      <td>129880.0</td>\n",
       "      <td>14.713713</td>\n",
       "      <td>38.071126</td>\n",
       "      <td>0.0</td>\n",
       "      <td>0.00</td>\n",
       "      <td>0.0</td>\n",
       "      <td>12.00</td>\n",
       "      <td>1592.0</td>\n",
       "    </tr>\n",
       "    <tr>\n",
       "      <th>arrival_delay_in_minutes</th>\n",
       "      <td>129487.0</td>\n",
       "      <td>15.091129</td>\n",
       "      <td>38.465650</td>\n",
       "      <td>0.0</td>\n",
       "      <td>0.00</td>\n",
       "      <td>0.0</td>\n",
       "      <td>13.00</td>\n",
       "      <td>1584.0</td>\n",
       "    </tr>\n",
       "  </tbody>\n",
       "</table>\n",
       "</div>"
      ],
      "text/plain": [
       "                                      count          mean           std   min  \\\n",
       "id                                 129880.0  64940.500000  37493.270818   1.0   \n",
       "age                                129880.0     39.427957     15.119360   7.0   \n",
       "flight_distance                    129880.0   1190.316392    997.452477  31.0   \n",
       "inflight_wifi_service              129880.0      2.728696      1.329340   0.0   \n",
       "departure_arrival_time_convenient  129880.0      3.057599      1.526741   0.0   \n",
       "ease_of_online_booking             129880.0      2.756876      1.401740   0.0   \n",
       "gate_location                      129880.0      2.976925      1.278520   0.0   \n",
       "food_and_drink                     129880.0      3.204774      1.329933   0.0   \n",
       "online_boarding                    129880.0      3.252633      1.350719   0.0   \n",
       "seat_comfort                       129880.0      3.441361      1.319289   0.0   \n",
       "inflight_entertainment             129880.0      3.358077      1.334049   0.0   \n",
       "on_board_service                   129880.0      3.383023      1.287099   0.0   \n",
       "leg_room_service                   129880.0      3.350878      1.316252   0.0   \n",
       "baggage_handling                   129880.0      3.632114      1.180025   1.0   \n",
       "checkin_service                    129880.0      3.306267      1.266185   0.0   \n",
       "inflight_service                   129880.0      3.642193      1.176669   0.0   \n",
       "cleanliness                        129880.0      3.286326      1.313682   0.0   \n",
       "departure_delay_in_minutes         129880.0     14.713713     38.071126   0.0   \n",
       "arrival_delay_in_minutes           129487.0     15.091129     38.465650   0.0   \n",
       "\n",
       "                                        25%      50%       75%       max  \n",
       "id                                 32470.75  64940.5  97410.25  129880.0  \n",
       "age                                   27.00     40.0     51.00      85.0  \n",
       "flight_distance                      414.00    844.0   1744.00    4983.0  \n",
       "inflight_wifi_service                  2.00      3.0      4.00       5.0  \n",
       "departure_arrival_time_convenient      2.00      3.0      4.00       5.0  \n",
       "ease_of_online_booking                 2.00      3.0      4.00       5.0  \n",
       "gate_location                          2.00      3.0      4.00       5.0  \n",
       "food_and_drink                         2.00      3.0      4.00       5.0  \n",
       "online_boarding                        2.00      3.0      4.00       5.0  \n",
       "seat_comfort                           2.00      4.0      5.00       5.0  \n",
       "inflight_entertainment                 2.00      4.0      4.00       5.0  \n",
       "on_board_service                       2.00      4.0      4.00       5.0  \n",
       "leg_room_service                       2.00      4.0      4.00       5.0  \n",
       "baggage_handling                       3.00      4.0      5.00       5.0  \n",
       "checkin_service                        3.00      3.0      4.00       5.0  \n",
       "inflight_service                       3.00      4.0      5.00       5.0  \n",
       "cleanliness                            2.00      3.0      4.00       5.0  \n",
       "departure_delay_in_minutes             0.00      0.0     12.00    1592.0  \n",
       "arrival_delay_in_minutes               0.00      0.0     13.00    1584.0  "
      ]
     },
     "execution_count": 15,
     "metadata": {},
     "output_type": "execute_result"
    }
   ],
   "source": [
    "data.describe().T"
   ]
  },
  {
   "cell_type": "markdown",
   "id": "7012f4ad",
   "metadata": {},
   "source": [
    "#### Let's take a look at the nan values in 'arrival_delay_in_minutes'"
   ]
  },
  {
   "cell_type": "code",
   "execution_count": 16,
   "id": "f4c5f68a",
   "metadata": {
    "scrolled": true
   },
   "outputs": [
    {
     "name": "stdout",
     "output_type": "stream",
     "text": [
      "Percent nan: 0.3 %\n"
     ]
    }
   ],
   "source": [
    "percent_nan = (data['arrival_delay_in_minutes'].isna().sum() / len(data)) * 100\n",
    "print(f\"Percent nan: {round(percent_nan, 2)} %\")"
   ]
  },
  {
   "cell_type": "code",
   "execution_count": 17,
   "id": "7f1f7965",
   "metadata": {},
   "outputs": [
    {
     "name": "stdout",
     "output_type": "stream",
     "text": [
      "Number of nan rows: 393\n"
     ]
    }
   ],
   "source": [
    "n_nan = len(data[data['arrival_delay_in_minutes'].isna()])\n",
    "print(f'Number of nan rows: {n_nan}')"
   ]
  },
  {
   "cell_type": "code",
   "execution_count": 18,
   "id": "7ed99684",
   "metadata": {},
   "outputs": [
    {
     "data": {
      "text/plain": [
       "neutral or dissatisfied    227\n",
       "satisfied                  166\n",
       "Name: satisfaction, dtype: int64"
      ]
     },
     "execution_count": 18,
     "metadata": {},
     "output_type": "execute_result"
    }
   ],
   "source": [
    "data[data['arrival_delay_in_minutes'].isna()]['satisfaction'].value_counts()"
   ]
  },
  {
   "cell_type": "markdown",
   "id": "ef561762",
   "metadata": {},
   "source": [
    "Only 393 rows (0.3%) contain Nan values in column 'arrival_delay_in_minutes'.<br>\n",
    "So we will drop all these rows ..."
   ]
  }
 ],
 "metadata": {
  "kernelspec": {
   "display_name": "Python 3 (ipykernel)",
   "language": "python",
   "name": "python3"
  },
  "language_info": {
   "codemirror_mode": {
    "name": "ipython",
    "version": 3
   },
   "file_extension": ".py",
   "mimetype": "text/x-python",
   "name": "python",
   "nbconvert_exporter": "python",
   "pygments_lexer": "ipython3",
   "version": "3.10.8"
  }
 },
 "nbformat": 4,
 "nbformat_minor": 5
}
